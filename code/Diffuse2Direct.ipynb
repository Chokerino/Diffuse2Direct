{
 "cells": [
  {
   "cell_type": "code",
   "execution_count": 45,
   "metadata": {
    "collapsed": false
   },
   "outputs": [
    {
     "name": "stderr",
     "output_type": "stream",
     "text": [
      "/specific/fprivate/bnet/danasilv/python_venv/lib/python3.4/site-packages/matplotlib/__init__.py:1318: UserWarning:  This call to matplotlib.use() has no effect\n",
      "because the backend has already been chosen;\n",
      "matplotlib.use() must be called *before* pylab, matplotlib.pyplot,\n",
      "or matplotlib.backends is imported for the first time.\n",
      "\n",
      "  warnings.warn(_use_error_msg)\n"
     ]
    }
   ],
   "source": [
    "import os\n",
    "import pandas as pd\n",
    "import numpy as np\n",
    "from sklearn import metrics\n",
    "import matplotlib\n",
    "matplotlib.use('pdf')\n",
    "import matplotlib.pyplot as plt\n",
    "%matplotlib inline\n",
    "import random\n",
    "import scipy.sparse as sps"
   ]
  },
  {
   "cell_type": "code",
   "execution_count": 2,
   "metadata": {
    "collapsed": false
   },
   "outputs": [],
   "source": [
    "import seaborn as sns\n",
    "sns.set_style(\"whitegrid\", {'axes.grid' : False})"
   ]
  },
  {
   "cell_type": "code",
   "execution_count": 3,
   "metadata": {
    "collapsed": true
   },
   "outputs": [],
   "source": [
    "import numpy.linalg as la"
   ]
  },
  {
   "cell_type": "code",
   "execution_count": 4,
   "metadata": {
    "collapsed": false
   },
   "outputs": [
    {
     "name": "stderr",
     "output_type": "stream",
     "text": [
      "/specific/fprivate/bnet/danasilv/python_venv/lib/python3.4/site-packages/sklearn/cross_validation.py:44: DeprecationWarning: This module was deprecated in version 0.18 in favor of the model_selection module into which all the refactored classes and functions are moved. Also note that the interface of the new CV iterators are different from that of this module. This module will be removed in 0.20.\n",
      "  \"This module will be removed in 0.20.\", DeprecationWarning)\n"
     ]
    }
   ],
   "source": [
    "from sklearn.metrics import precision_recall_curve\n",
    "from sklearn import linear_model\n",
    "from sklearn import cross_validation\n",
    "from sklearn.metrics import roc_curve, auc\n",
    "from sklearn.utils import shuffle"
   ]
  },
  {
   "cell_type": "markdown",
   "metadata": {},
   "source": [
    "# Classes and Functions"
   ]
  },
  {
   "cell_type": "markdown",
   "metadata": {},
   "source": [
    "# Network diffusion"
   ]
  },
  {
   "cell_type": "markdown",
   "metadata": {},
   "source": [
    "Class network performs network diffusion (RWR) as descrived in Cowen et al.\n",
    "To use: \n",
    "    Initialization steps (done only once per network)\n",
    "    1. Create a network\n",
    "    2. Normalize (done only once)\n",
    "    Diffusion\n",
    "    1. Prepare a prior vector\n",
    "    2. run smooth (performs the diffusion)\n",
    "    "
   ]
  },
  {
   "cell_type": "code",
   "execution_count": 5,
   "metadata": {
    "collapsed": true
   },
   "outputs": [],
   "source": [
    "class Network:\n",
    "    def __init__(self, graph, allGenes, geneToRow):\n",
    "        self.graph = graph\n",
    "        self.size = graph.shape[0]\n",
    "        self.allGenes = allGenes\n",
    "        self.geneToRow = geneToRow\n",
    "    \n",
    "    \n",
    "    def normalize(self):\n",
    "        x = self.graph.sum(axis=1)\n",
    "        x[x == 0] = 1\n",
    "        x = 1.0 / x\n",
    "        data = x\n",
    "        d = sps.dia_matrix( (data.T,[0]), (len(data),len(data)) )\n",
    "        self.graph = d * self.graph\n",
    "        return self\n",
    "    \n",
    "    def smooth(self, y, alpha=0.6, eps=1e-5, max_iter=100):\n",
    "\n",
    "        y = y.transpose()\n",
    "        f = np.copy(y)\n",
    "        for i in range(max_iter):\n",
    "            fold = f\n",
    "            f = alpha * f * self.graph + (1-alpha) * y\n",
    "            if la.norm(f-fold) < eps:\n",
    "                break\n",
    "        return f"
   ]
  },
  {
   "cell_type": "code",
   "execution_count": 6,
   "metadata": {
    "collapsed": true
   },
   "outputs": [],
   "source": [
    "def read_ppi(PPI, is_undirected):\n",
    "    \n",
    "    # Read the PPI network and perform edge reweighting by gene expression\n",
    "    fromArr = PPI['ID1'].astype(str).tolist()\n",
    "    toArr = PPI['ID2'].astype(str).tolist()\n",
    "    confidenceArr = PPI['conf'].tolist()\n",
    "\n",
    "    geneToRow = {}\n",
    "    allGenes = list(set(fromArr + toArr))\n",
    "    i = 0\n",
    "    for gene in allGenes:\n",
    "        geneToRow[gene] = i\n",
    "        i += 1\n",
    "\n",
    "    for i in range(len(fromArr)):\n",
    "        fromArr[i] = geneToRow[fromArr[i]]\n",
    "        toArr[i] = geneToRow[toArr[i]]\n",
    "\n",
    "    n = len(allGenes)\n",
    "    d = sps.coo_matrix((confidenceArr, (fromArr, toArr)), shape=(n,n))\n",
    "    # to make network undirected use this\n",
    "    if (is_undirected == True):\n",
    "        sym = d + d.T\n",
    "    # to make network directed use this\n",
    "    else:\n",
    "        sym = d\n",
    "    print (\"%d genes in the network\" % (len(allGenes,)))\n",
    "    return Network(sym, allGenes, geneToRow)"
   ]
  },
  {
   "cell_type": "markdown",
   "metadata": {},
   "source": [
    "Calculates D2D scorefor an edge \n",
    "input:\n",
    "ID1 - head of the interaction\n",
    "ID2 - tail of the interaction\n",
    "network diffusion from sources - output of the function smooth\n",
    "network diffusion from terminals - output of the function smooth\n",
    "geneToRow - mapping from the network to the class Network - property of the class Netowrk"
   ]
  },
  {
   "cell_type": "code",
   "execution_count": 7,
   "metadata": {
    "collapsed": false
   },
   "outputs": [],
   "source": [
    "def calc_score_for_edge(ID1,ID2,diffuse_from_sources,diffuse_from_terminals, geneToRow):\n",
    "    Fc_u = diffuse_from_sources.T[geneToRow[str(ID1)]][0]\n",
    "    Fc_v = diffuse_from_sources.T[geneToRow[str(ID2)]][0]\n",
    "    Fe_u = diffuse_from_terminals.T[geneToRow[str(ID1)]][0]\n",
    "    Fe_v = diffuse_from_terminals.T[geneToRow[str(ID2)]][0]\n",
    "    return (Fc_u * Fe_v)/(Fe_u * Fc_v)"
   ]
  },
  {
   "cell_type": "markdown",
   "metadata": {},
   "source": [
    "Runs diffusion per experiment, diffusing once from the set of sources and once from their paired tarminals,\n",
    "then calculates the score for eadh edge (the diffusion from the sources divided by the diffusion from the terminals)"
   ]
  },
  {
   "cell_type": "code",
   "execution_count": 8,
   "metadata": {
    "collapsed": false
   },
   "outputs": [],
   "source": [
    "def run_diffusion_for_experiment(experiment_name, sources, terminals, unoriented_network, unoriented):\n",
    "    \n",
    "    # Diffuse from the sources\n",
    "    prior = np.zeros((unoriented_network.size,1))\n",
    "    for gene in sources[sources['Experiment'] == experiment_name]['ID']:\n",
    "        if gene in network_IDs:\n",
    "            prior[unoriented_network.geneToRow[str(gene)]] = 1\n",
    "    diffuse_from_sources = unoriented_network.smooth(prior, alpha = 0.6)\n",
    "\n",
    "    # Diffuse from the terminals\n",
    "    prior = np.zeros((unoriented_network.size,1))\n",
    "    for gene in terminals[terminals['Experiment'] == experiment_name]['ID']:\n",
    "        if gene in network_IDs:\n",
    "            prior[unoriented_network.geneToRow[str(gene)]] = 1\n",
    "    diffuse_from_terminals = unoriented_network.smooth(prior, alpha = 0.6)\n",
    "\n",
    "    # Save the score\n",
    "    unoriented[experiment_name] = unoriented.apply(lambda row: calc_score_for_edge(row['ID1'],row['ID2'], diffuse_from_sources, diffuse_from_terminals,unoriented_network.geneToRow), axis = 1)\n"
   ]
  },
  {
   "cell_type": "markdown",
   "metadata": {},
   "source": [
    "# Build a classifier"
   ]
  },
  {
   "cell_type": "markdown",
   "metadata": {},
   "source": [
    "Performs cross fold validation, reporting the precision and recall"
   ]
  },
  {
   "cell_type": "code",
   "execution_count": 9,
   "metadata": {
    "collapsed": true
   },
   "outputs": [],
   "source": [
    "def get_recall_precision(pred_name, pred_features, pred_true, pred_ID1, pred_ID2, clf, select, FOLDS = 3):\n",
    "    \n",
    "    k_fold_base= cross_validation.KFold(n=len(pred_true[pred_true == 2]), n_folds=FOLDS, shuffle=True,random_state=None)\n",
    "         \n",
    "    all_proba = []\n",
    "    all_ytest = []\n",
    "    all_names = []\n",
    "   \n",
    "    sum_coef_zero = 0\n",
    "    \n",
    "    # Choose folds so tonot mix the true instances with the same interactions' false\n",
    "    folds = []\n",
    "    for train_index, test_index in k_fold_base:       \n",
    "\n",
    "        # Choose the corresponding false (this is done to prevent information leak caused by having one direction chosen\n",
    "        # once in the test set and the opposite direction chosen for the training)\n",
    "        EdgeTrue = (pred_ID2.iloc[train_index].astype(str) + \".\" + pred_ID1.iloc[train_index].astype(str))\n",
    "        IdxFalse = pred_name[pred_name.isin(EdgeTrue)].index\n",
    "        IdxFullTrain = np.append(IdxFalse.values, train_index)\n",
    "\n",
    "        # The rest are the training\n",
    "        IdxFullTest = pred_name[~pred_name.index.isin(IdxFullTrain)].index\n",
    "        folds.append((IdxFullTrain, IdxFullTest))\n",
    "\n",
    "    for train_index, test_index in folds:       \n",
    "\n",
    "        xtrain, xtest = pred_features.loc[train_index], pred_features.loc[test_index]\n",
    "        ytrain, ytest = pred_true.loc[train_index], pred_true.loc[test_index]\n",
    "        name_test = pred_name.loc[test_index]\n",
    "        xtrain = xtrain.rank(axis='columns')\n",
    "        xtest = xtest.rank(axis='columns')\n",
    "    \n",
    "        test_prob = clf.fit(xtrain,ytrain).predict_proba(xtest)       \n",
    "    \n",
    "        all_proba.extend(test_prob)\n",
    "        all_ytest.extend(ytest)\n",
    "        all_names.extend(name_test)\n",
    "        \n",
    "    # roc_curve\n",
    "    precision, recall, thresholds = precision_recall_curve(np.array(all_ytest), np.array(all_proba)[:,1], pos_label=2)                \n",
    "    mean_auc = auc(recall, precision)\n",
    "    rows, columns = pred_features.shape\n",
    "    \n",
    "    oriented_network = pd.concat([pd.DataFrame({'edge': all_names}), pd.DataFrame({'edge': all_ytest}), pd.DataFrame({'pval': np.array(all_proba)[:,1]})], axis = 1)\n",
    "    oriented_network.columns = ['edge','true','pval']\n",
    "    \n",
    "    return recall, precision, mean_auc, oriented_network, np.array(all_proba)[:,1]"
   ]
  },
  {
   "cell_type": "markdown",
   "metadata": {},
   "source": [
    "Prepares data for precision recall test"
   ]
  },
  {
   "cell_type": "code",
   "execution_count": 10,
   "metadata": {
    "collapsed": true
   },
   "outputs": [],
   "source": [
    "def test_crossfold(signal,col_list, set_type, clf, select, FOLDS = 3): \n",
    "    \n",
    "    tested_set = read_set(signal, set_type)\n",
    "   \n",
    "    instances = tested_set[tested_set['true'] > 0].copy()\n",
    "    instances = instances.reset_index(drop=True)\n",
    "    \n",
    "    # Calculate precision recall\n",
    "    pred_true = instances['true']\n",
    "    pred_ID1 = instances['ID1']\n",
    "    pred_ID2 = instances['ID2']\n",
    "    pred_features = instances[col_list]\n",
    "    \n",
    "    recall, precision, AUC, oriented_network, prob = get_recall_precision(instances['edge'], pred_features, pred_true, pred_ID1, pred_ID2, clf, select, FOLDS)\n",
    "    return (recall, precision, AUC, oriented_network, prob)"
   ]
  },
  {
   "cell_type": "markdown",
   "metadata": {},
   "source": [
    "Prepares the data for cross validation by marking the edges of the tested interactions"
   ]
  },
  {
   "cell_type": "code",
   "execution_count": 11,
   "metadata": {
    "collapsed": true
   },
   "outputs": [],
   "source": [
    "def read_set(original_network,  tested_interactions_type):\n",
    "    \n",
    "    original_network['true'] = -1\n",
    "    true_ix = original_network[original_network['type'] == ('TRUE_' + tested_interactions_type)].index.tolist()\n",
    "    false_ix = original_network[original_network['type'] == ('FALSE_' + tested_interactions_type)].index.tolist()\n",
    "    # All sets\n",
    "    original_network.loc[true_ix, 'true'] = 2\n",
    "    original_network.loc[false_ix, 'true'] = 1\n",
    "    return (original_network)"
   ]
  },
  {
   "cell_type": "markdown",
   "metadata": {},
   "source": [
    "Calculates AUC for all five test sets: PDIs, KPIs, STKE, EGFR, E3"
   ]
  },
  {
   "cell_type": "code",
   "execution_count": 12,
   "metadata": {
    "collapsed": false
   },
   "outputs": [],
   "source": [
    "def print_auc(drugs, use, FOLDS = 3, repeats = 10):\n",
    "    AUC1 = AUC2 = AUC3 = AUC4 = AUC5 = 0\n",
    "    for i in range (1, repeats + 1):\n",
    "        recall, precision, AUC, oriented_network, prob_pdi = test_crossfold(drugs,use,'balanced_pdi',linear_model.LogisticRegression(solver='liblinear', penalty = 'l1', C=0.01),0, FOLDS)\n",
    "        AUC2 += AUC\n",
    "    print(\"PDIs %.2f\"%(AUC2/repeats))\n",
    "    \n",
    "    for i in range (1, repeats + 1):\n",
    "        recall, precision, AUC, oriented_network, prob_kpi = test_crossfold(drugs,use,'balanced_kpi',linear_model.LogisticRegression(solver='liblinear', penalty = 'l1', C=0.01),0, FOLDS)\n",
    "        AUC1 += AUC\n",
    "    print(\"KPIs %.2f\"%(AUC1/repeats))\n",
    "    \n",
    "    for i in range (1, repeats + 1):\n",
    "        recall, precision, AUC, oriented_network, prob_STKE = test_crossfold(drugs,use, 'STKE', linear_model.LogisticRegression(solver='liblinear', penalty = 'l1', C=1000),0, FOLDS)\n",
    "        AUC3 += AUC\n",
    "    print(\"STKE %.2f\"%(AUC3/repeats))\n",
    "    \n",
    "    for i in range (1, repeats + 1):\n",
    "        recall, precision, AUC, oriented_network, prob_EGFR = test_crossfold(drugs,use,'EGFR',linear_model.LogisticRegression(solver='liblinear', penalty = 'l1', C=100),0, FOLDS)\n",
    "        AUC4 += AUC\n",
    "    print(\"EGFR %.2f\"%(AUC4/repeats))\n",
    "    \n",
    "    for i in range (1, repeats + 1):\n",
    "        recall, precision, AUC, oriented_network, prob_E3 = test_crossfold(drugs,use,'E3',linear_model.LogisticRegression(solver='liblinear', penalty = 'l1', C=0.01),0, FOLDS)\n",
    "        AUC5 += AUC\n",
    "    print(\"E3 %.2f\"%(AUC5/repeats))\n",
    "    \n",
    "    return ([(AUC2/repeats), (AUC1/repeats), (AUC3/repeats), (AUC4/repeats), (AUC5/repeats)])"
   ]
  },
  {
   "cell_type": "markdown",
   "metadata": {},
   "source": [
    "# Create an oriented network"
   ]
  },
  {
   "cell_type": "markdown",
   "metadata": {},
   "source": [
    "Takes a network for which the network diffusion scores were calculated and returns an oriented network with\n",
    "D2D scores for each edge"
   ]
  },
  {
   "cell_type": "code",
   "execution_count": 13,
   "metadata": {
    "collapsed": true
   },
   "outputs": [],
   "source": [
    "def create_oriented_network_from_signal(signal, feature):\n",
    "    \n",
    "    netwrok_results = calc_D2D_for_unoriented_portion(signal, feature)\n",
    "    netwrok_results.replace(0,0.0000001, inplace = True)\n",
    "    oriented_network = netwrok_results[['edge','conf','pval','true','type']]\n",
    "    choose_edge_network = choose_edge_direction(oriented_network)\n",
    "    choose_edge_network['ID1'] = choose_edge_network.apply(lambda row: row['edge'].split('.')[0],  axis=1)\n",
    "    choose_edge_network['ID2'] = choose_edge_network.apply(lambda row: row['edge'].split('.')[1],  axis=1)\n",
    "    choose_edge_network['ID1'] =  choose_edge_network['ID1'].astype('int64')\n",
    "    choose_edge_network['ID2'] =  choose_edge_network['ID2'].astype('int64')\n",
    "    return (choose_edge_network)"
   ]
  },
  {
   "cell_type": "markdown",
   "metadata": {},
   "source": [
    "Per interaction, compare the probabilty inferred for each direction, choose the edge with the highest probabilty, \n",
    "i.e. max(D2D(u,v),D2D(v,u)). \n",
    "For the chosen direction calculate the ratio of its probability with its opposite, i.e. the return (max(D2D(u,v),D2D(v,u)) / min(D2D(u,v),D2D(v,u)))"
   ]
  },
  {
   "cell_type": "code",
   "execution_count": 14,
   "metadata": {
    "collapsed": true
   },
   "outputs": [],
   "source": [
    "def choose_edge_direction(test_set):\n",
    "       \n",
    "    test_set['oppedge'] = test_set.apply(lambda row: row['edge'].split('.')[1] + \".\" + row['edge'].split('.')[0], axis=1)\n",
    "    set_pred_merged = test_set.merge(test_set, left_on = 'edge', right_on = 'oppedge', how = 'inner')\n",
    "    \n",
    "    set_choose = set_pred_merged.apply(lambda row: \n",
    "            pd.Series((row['edge_x'],row['type_x'],row['conf_x'], (row['pval_x']/row['pval_y'])) if row['pval_x'] >= row['pval_y'] \n",
    "                      else (row['edge_y'], row['type_y'],row['conf_y'],(row['pval_y']/row['pval_x']))), axis=1 ) \n",
    "\n",
    "    set_choose.columns = ['edge','type','conf','probability']\n",
    "    set_choose = set_choose.drop_duplicates()\n",
    "    return (set_choose)"
   ]
  },
  {
   "cell_type": "markdown",
   "metadata": {},
   "source": [
    "The function trains a classifier on all test edges, \n",
    "then uses the classifier to assign D2D scores for each iof the unoriented edges"
   ]
  },
  {
   "cell_type": "code",
   "execution_count": 15,
   "metadata": {
    "collapsed": true
   },
   "outputs": [],
   "source": [
    "def calc_D2D_for_unoriented_portion(current_signal, features, DataBase = 'biogrid'): \n",
    "    \n",
    "    # Prepare training and test sets\n",
    "    diffuse = current_signal.copy()\n",
    "    diffuse = diffuse[diffuse['type'].str.endswith(DataBase) | \n",
    "                    diffuse['type'].str.endswith('balanced_pdi') | \n",
    "                    diffuse['type'].str.endswith('balanced_kpi') | \n",
    "                    diffuse['type'].str.endswith('balanced_E3') | \n",
    "                    diffuse['type'].str.endswith('EGFR') | \n",
    "                    diffuse['type'].str.endswith('STKE')]\n",
    "    diffuse['true'] = -1\n",
    "\n",
    "    # Use all sets as training\n",
    "    true_ix = diffuse[diffuse['type'].str.startswith('TRUE')].index.tolist()\n",
    "    false_ix = diffuse[diffuse['type'].str.startswith('FALSE')].index.tolist()\n",
    "    diffuse.loc[true_ix, 'true'] = 2\n",
    "    diffuse.loc[false_ix, 'true'] = 1\n",
    "    train_ix = diffuse[diffuse['true'] > 0].index.tolist()\n",
    "    test_ix = diffuse[diffuse['true'] == -1].index.tolist()\n",
    "\n",
    "    #Train the network using all sets and all drugs\n",
    "    # Infer orientation\n",
    "    xtrain = diffuse.loc[train_ix,features]\n",
    "    xtest = diffuse.loc[test_ix,features]\n",
    "    ytrain = diffuse.loc[train_ix,'true']\n",
    "    test_prob = clfLRL1.fit(xtrain,ytrain).predict_proba(xtest) \n",
    "    diffuse['pval'] = -1\n",
    "    diffuse.loc[test_ix,'pval'] = test_prob[:,1]\n",
    "    diffuse.loc[true_ix,'pval'] = 1\n",
    "    diffuse.loc[false_ix,'pval'] = 0\n",
    "    diffuse_test = diffuse[diffuse['type'] == DataBase]\n",
    "    diffuse_train = diffuse[(diffuse['type'] != DataBase)]\n",
    "    \n",
    "    # Concat all training edges (including unbalanced)\n",
    "    diffuse_train_true = current_signal[current_signal['type'].str.startswith('TRUE')]\n",
    "    diffuse_train_false = current_signal[current_signal['type'].str.startswith('FALSE')]\n",
    "    diffuse_train_true['pval'] = 1\n",
    "    diffuse_train_false['pval'] = 0\n",
    "    result = pd.concat([diffuse_train_true,diffuse_train_false,diffuse_test])\n",
    "    return(result[diffuse_test.columns])\n",
    "    "
   ]
  },
  {
   "cell_type": "markdown",
   "metadata": {},
   "source": [
    "# Set input"
   ]
  },
  {
   "cell_type": "markdown",
   "metadata": {},
   "source": [
    "network file foramt: Gene1 Gene2 confidence is_interaction_directed interaction_type\n",
    "- tab delimited\n",
    "- direction is not used here, however the code can be extended to diffuse \n",
    "while considering directed interactions in the network, as described in the SI\n",
    "- interaction_type: start with TRUE for known directins, \n",
    " FALSE for their opposite direction and UNDIRECTED for interaction thatdo not posses a direction\n",
    " any other type refers to interaction with unknown directionality"
   ]
  },
  {
   "cell_type": "markdown",
   "metadata": {},
   "source": [
    "# For a single experiment (Silverbush et al. Figure 2) run from here"
   ]
  },
  {
   "cell_type": "code",
   "execution_count": 16,
   "metadata": {
    "collapsed": true
   },
   "outputs": [],
   "source": [
    "# ToUse: Change input and output  paths\n",
    "KEGG_pathway = 'hsa00980' # directory includes also hsa00071, hsa00140, hsa00512, hsa00601\n",
    "input_library = 'SingleExperiment/'+KEGG_pathway+'/input/'\n",
    "output_library = 'SingleExperiment/'+KEGG_pathway+'/output/'\n",
    "network_filename = input_library + 'kegg.net'\n",
    "sources_filename = input_library + 'kegg_sources.txt'\n",
    "terminals_filename = input_library + 'kegg_targets.txt'"
   ]
  },
  {
   "cell_type": "markdown",
   "metadata": {},
   "source": [
    "Read unoriented network, set of sources and paired terminals"
   ]
  },
  {
   "cell_type": "code",
   "execution_count": 17,
   "metadata": {
    "collapsed": false
   },
   "outputs": [],
   "source": [
    "unoriented = pd.read_table(network_filename, header = None, names = ['ID1','ID2','conf','direction','type'])\n",
    "sources = pd.read_table(sources_filename, header = None, names = ['Experiment','ID'])\n",
    "terminals = pd.read_table(terminals_filename, header = None, names = ['Experiment','ID'])"
   ]
  },
  {
   "cell_type": "markdown",
   "metadata": {},
   "source": [
    "Network diffusion"
   ]
  },
  {
   "cell_type": "code",
   "execution_count": 18,
   "metadata": {
    "collapsed": false
   },
   "outputs": [
    {
     "name": "stdout",
     "output_type": "stream",
     "text": [
      "68 genes in the network\n"
     ]
    }
   ],
   "source": [
    "unoriented_network_diffusion = read_ppi(unoriented, is_undirected=True)\n",
    "unoriented_network_diffusion = unoriented_network_diffusion.normalize()\n",
    "network_IDs = unoriented[['ID1','ID2']].values.flatten()"
   ]
  },
  {
   "cell_type": "markdown",
   "metadata": {},
   "source": [
    "Calculate D2D scores for a single experiment"
   ]
  },
  {
   "cell_type": "code",
   "execution_count": 19,
   "metadata": {
    "collapsed": false
   },
   "outputs": [],
   "source": [
    "# Diffuse from the sources\n",
    "prior = np.zeros((unoriented_network_diffusion.size,1))\n",
    "for gene in sources['ID']:\n",
    "    if gene in network_IDs:\n",
    "        prior[unoriented_network_diffusion.geneToRow[str(gene)]] = 1\n",
    "diffuse_from_sources = unoriented_network_diffusion.smooth(prior, alpha = 0.6)"
   ]
  },
  {
   "cell_type": "code",
   "execution_count": 20,
   "metadata": {
    "collapsed": false
   },
   "outputs": [],
   "source": [
    "# Diffuse from the terminals\n",
    "prior = np.zeros((unoriented_network_diffusion.size,1))\n",
    "for gene in terminals['ID']:\n",
    "    if gene in network_IDs:\n",
    "        prior[unoriented_network_diffusion.geneToRow[str(gene)]] = 1\n",
    "diffuse_from_terminals = unoriented_network_diffusion.smooth(prior, alpha = 0.6)"
   ]
  },
  {
   "cell_type": "markdown",
   "metadata": {},
   "source": [
    "Calculate for each edge score(u,v) = diffuse_from_sources(u) \\* diffuse_from_terminals(v) divivded by\n",
    "                                     diffuse_from_sources(v) \\* diffuse_from_terminals(c)"
   ]
  },
  {
   "cell_type": "code",
   "execution_count": 21,
   "metadata": {
    "collapsed": false
   },
   "outputs": [],
   "source": [
    "unoriented['score'] = unoriented.apply(lambda row: calc_score_for_edge(row['ID1'],row['ID2'], diffuse_from_sources, diffuse_from_terminals,unoriented_network_diffusion.geneToRow), axis = 1)"
   ]
  },
  {
   "cell_type": "code",
   "execution_count": 22,
   "metadata": {
    "collapsed": false
   },
   "outputs": [],
   "source": [
    "# Save the scores to a file\n",
    "unoriented.to_csv(output_library + 'SingleExperimentScores.csv',  sep = '\\t',index = False)"
   ]
  },
  {
   "cell_type": "markdown",
   "metadata": {},
   "source": [
    "Scores distribution"
   ]
  },
  {
   "cell_type": "markdown",
   "metadata": {},
   "source": [
    "For a single experiment a classifier is unnecessary (as there are no multiple experiments to merge)"
   ]
  },
  {
   "cell_type": "code",
   "execution_count": 23,
   "metadata": {
    "collapsed": false
   },
   "outputs": [],
   "source": [
    "unoriented['log(D2D)'] = np.log10(unoriented['score'])"
   ]
  },
  {
   "cell_type": "code",
   "execution_count": 24,
   "metadata": {
    "collapsed": false
   },
   "outputs": [
    {
     "data": {
      "image/png": "[encoded data removed]",
      "text/plain": [
       "<matplotlib.figure.Figure at 0x7f06cd010780>"
      ]
     },
     "metadata": {},
     "output_type": "display_data"
    }
   ],
   "source": [
    "sns.set_style(\"whitegrid\")\n",
    "ax = sns.boxplot(x=\"type\", y=\"log(D2D)\",data=unoriented,palette=['green','yellow','red'], order=[\"TRUE_KEGG\", \"UNDIRECTED_KEGG\", \"FALSE_KEGG\"], linewidth=1)\n",
    "ax.set_ylim([-1, 1])\n",
    "plt.setp(ax.lines, color=\".1\")\n",
    "ax.set(ylabel='log10(D2D score)')\n",
    "ax.set(xlabel='KEGG catalog')\n",
    "ax.set_xticklabels(['TRUE Orientations','UNDIRECTED','False Orientations'])\n",
    "ax.set_title('Single experiment D2D scores distribution for pathway ' + KEGG_pathway)\n",
    "plt.savefig(output_library + '/SingleExperimentD2DscoresDistribution.pdf', format='pdf')\n",
    "plt.show()"
   ]
  },
  {
   "cell_type": "markdown",
   "metadata": {},
   "source": [
    "# For multiple experiments run from here"
   ]
  },
  {
   "cell_type": "markdown",
   "metadata": {},
   "source": [
    "Read network and experiments data"
   ]
  },
  {
   "cell_type": "code",
   "execution_count": 25,
   "metadata": {
    "collapsed": true
   },
   "outputs": [],
   "source": [
    "# ToUse: Change input and output  paths\n",
    "# Read original network, sources and terminals\n",
    "input_library = 'DrugsInfo/input/'\n",
    "output_library = 'DrugsInfo/output/'\n",
    "network_filename = input_library + 'consensus.net'\n",
    "sources_filename = input_library + 'drug_targets.txt'\n",
    "terminals_filename = input_library + 'drug_expressions.txt'"
   ]
  },
  {
   "cell_type": "code",
   "execution_count": 26,
   "metadata": {
    "collapsed": false
   },
   "outputs": [],
   "source": [
    "unoriented = pd.read_table(network_filename, header = 0, usecols = [0,1,2,3], names = ['ID1','ID2','type','conf'])\n",
    "sources = pd.read_table(sources_filename, header = None, names = ['Experiment','ID'])\n",
    "terminals = pd.read_table(terminals_filename, header = None, names = ['Experiment','ID'])"
   ]
  },
  {
   "cell_type": "markdown",
   "metadata": {},
   "source": [
    "Simulate orientation - create an undirected network out of the consensus network"
   ]
  },
  {
   "cell_type": "code",
   "execution_count": 27,
   "metadata": {
    "collapsed": true
   },
   "outputs": [],
   "source": [
    "unoriented_complement = unoriented.copy()\n",
    "unoriented_complement.columns = ['ID2', 'ID1', 'type', 'conf']\n",
    "unoriented_complement['type'].replace({'TRUE': 'FALSE'}, inplace=True, regex=True)\n",
    "unoriented = pd.concat([unoriented, unoriented_complement])"
   ]
  },
  {
   "cell_type": "code",
   "execution_count": 28,
   "metadata": {
    "collapsed": false
   },
   "outputs": [],
   "source": [
    "# This is actually not needed - but we shuffle the rows just so the known directions will distribute along the dataframe. \n",
    "# The results do not depend on it, but it's reasuring to avoid ant location bias of any sort\n",
    "unoriented = shuffle(unoriented).reset_index(drop=True)"
   ]
  },
  {
   "cell_type": "markdown",
   "metadata": {},
   "source": [
    "Prepare for network diffusion"
   ]
  },
  {
   "cell_type": "code",
   "execution_count": 29,
   "metadata": {
    "collapsed": false
   },
   "outputs": [
    {
     "name": "stdout",
     "output_type": "stream",
     "text": [
      "15500 genes in the network\n"
     ]
    }
   ],
   "source": [
    "# unoriented_network_diffusion is a representation of unoriented with in the class Network\n",
    "unoriented_network_diffusion = read_ppi(unoriented, is_undirected=True)\n",
    "unoriented_network_diffusion = unoriented_network_diffusion.normalize()\n",
    "network_IDs = unoriented[['ID1','ID2']].values.flatten()\n"
   ]
  },
  {
   "cell_type": "code",
   "execution_count": 30,
   "metadata": {
    "collapsed": true
   },
   "outputs": [],
   "source": [
    "unoriented['edge'] = unoriented['ID1'].astype(str) + '.' + unoriented['ID2'].astype(str)"
   ]
  },
  {
   "cell_type": "markdown",
   "metadata": {},
   "source": [
    "Calc score per experiment"
   ]
  },
  {
   "cell_type": "code",
   "execution_count": 31,
   "metadata": {
    "collapsed": false
   },
   "outputs": [],
   "source": [
    "experiments_names = sources['Experiment'].unique()"
   ]
  },
  {
   "cell_type": "code",
   "execution_count": 32,
   "metadata": {
    "collapsed": false
   },
   "outputs": [],
   "source": [
    "#experiments_used = list()\n",
    "#for experiment_name in experiments_names:\n",
    "#    experiments_used.append(experiment_name)\n",
    "#    run_diffusion_for_experiment(experiment_name, sources, terminals, unoriented_network_diffusion, unoriented)\n",
    "    \n",
    "## Replace NA with 0 - for experiments which did not have sources/terminals in the netowork\n",
    "#unoriented.fillna(0, inplace=True)"
   ]
  },
  {
   "cell_type": "markdown",
   "metadata": {},
   "source": [
    "Calculate D2D scores"
   ]
  },
  {
   "cell_type": "code",
   "execution_count": 44,
   "metadata": {
    "collapsed": false
   },
   "outputs": [
    {
     "name": "stderr",
     "output_type": "stream",
     "text": [
      "/usr/local/lib/python3.4/dist-packages/ipykernel-4.3.1-py3.4.egg/ipykernel/__main__.py:6: RuntimeWarning: invalid value encountered in double_scalars\n"
     ]
    },
    {
     "ename": "KeyboardInterrupt",
     "evalue": "",
     "output_type": "error",
     "traceback": [
      "\u001b[0;31m---------------------------------------------------------------------------\u001b[0m",
      "\u001b[0;31mKeyboardInterrupt\u001b[0m                         Traceback (most recent call last)",
      "\u001b[0;32m<ipython-input-44-b9b5a0dbe9df>\u001b[0m in \u001b[0;36m<module>\u001b[0;34m()\u001b[0m\n\u001b[1;32m      5\u001b[0m \u001b[0;32mfor\u001b[0m \u001b[0mexperiment_name\u001b[0m \u001b[0;32min\u001b[0m \u001b[0mnp\u001b[0m\u001b[0;34m.\u001b[0m\u001b[0mrandom\u001b[0m\u001b[0;34m.\u001b[0m\u001b[0mchoice\u001b[0m\u001b[0;34m(\u001b[0m\u001b[0mexperiments_names\u001b[0m\u001b[0;34m,\u001b[0m \u001b[0msize\u001b[0m \u001b[0;34m=\u001b[0m \u001b[0;36m100\u001b[0m\u001b[0;34m,\u001b[0m \u001b[0mreplace\u001b[0m\u001b[0;34m=\u001b[0m\u001b[0;32mFalse\u001b[0m\u001b[0;34m)\u001b[0m\u001b[0;34m:\u001b[0m\u001b[0;34m\u001b[0m\u001b[0m\n\u001b[1;32m      6\u001b[0m     \u001b[0mexperiments_used\u001b[0m\u001b[0;34m.\u001b[0m\u001b[0mappend\u001b[0m\u001b[0;34m(\u001b[0m\u001b[0mexperiment_name\u001b[0m\u001b[0;34m)\u001b[0m\u001b[0;34m\u001b[0m\u001b[0m\n\u001b[0;32m----> 7\u001b[0;31m     \u001b[0mrun_diffusion_for_experiment\u001b[0m\u001b[0;34m(\u001b[0m\u001b[0mexperiment_name\u001b[0m\u001b[0;34m,\u001b[0m \u001b[0msources\u001b[0m\u001b[0;34m,\u001b[0m \u001b[0mterminals\u001b[0m\u001b[0;34m,\u001b[0m \u001b[0munoriented_network_diffusion\u001b[0m\u001b[0;34m,\u001b[0m \u001b[0munoriented\u001b[0m\u001b[0;34m)\u001b[0m\u001b[0;34m\u001b[0m\u001b[0m\n\u001b[0m\u001b[1;32m      8\u001b[0m \u001b[0;34m\u001b[0m\u001b[0m\n\u001b[1;32m      9\u001b[0m \u001b[0;31m# Replace NA with 0 - for experiments which did not have sources/terminals in the netowork\u001b[0m\u001b[0;34m\u001b[0m\u001b[0;34m\u001b[0m\u001b[0m\n",
      "\u001b[0;32m<ipython-input-8-ee61282abe3f>\u001b[0m in \u001b[0;36mrun_diffusion_for_experiment\u001b[0;34m(experiment_name, sources, terminals, unoriented_network, unoriented)\u001b[0m\n\u001b[1;32m     16\u001b[0m \u001b[0;34m\u001b[0m\u001b[0m\n\u001b[1;32m     17\u001b[0m     \u001b[0;31m# Save the score\u001b[0m\u001b[0;34m\u001b[0m\u001b[0;34m\u001b[0m\u001b[0m\n\u001b[0;32m---> 18\u001b[0;31m     \u001b[0munoriented\u001b[0m\u001b[0;34m[\u001b[0m\u001b[0mexperiment_name\u001b[0m\u001b[0;34m]\u001b[0m \u001b[0;34m=\u001b[0m \u001b[0munoriented\u001b[0m\u001b[0;34m.\u001b[0m\u001b[0mapply\u001b[0m\u001b[0;34m(\u001b[0m\u001b[0;32mlambda\u001b[0m \u001b[0mrow\u001b[0m\u001b[0;34m:\u001b[0m \u001b[0mcalc_score_for_edge\u001b[0m\u001b[0;34m(\u001b[0m\u001b[0mrow\u001b[0m\u001b[0;34m[\u001b[0m\u001b[0;34m'ID1'\u001b[0m\u001b[0;34m]\u001b[0m\u001b[0;34m,\u001b[0m\u001b[0mrow\u001b[0m\u001b[0;34m[\u001b[0m\u001b[0;34m'ID2'\u001b[0m\u001b[0;34m]\u001b[0m\u001b[0;34m,\u001b[0m \u001b[0mdiffuse_from_sources\u001b[0m\u001b[0;34m,\u001b[0m \u001b[0mdiffuse_from_terminals\u001b[0m\u001b[0;34m,\u001b[0m\u001b[0munoriented_network\u001b[0m\u001b[0;34m.\u001b[0m\u001b[0mgeneToRow\u001b[0m\u001b[0;34m)\u001b[0m\u001b[0;34m,\u001b[0m \u001b[0maxis\u001b[0m \u001b[0;34m=\u001b[0m \u001b[0;36m1\u001b[0m\u001b[0;34m)\u001b[0m\u001b[0;34m\u001b[0m\u001b[0m\n\u001b[0m",
      "\u001b[0;32m/specific/fprivate/bnet/danasilv/python_venv/lib/python3.4/site-packages/pandas/core/frame.py\u001b[0m in \u001b[0;36mapply\u001b[0;34m(self, func, axis, broadcast, raw, reduce, args, **kwds)\u001b[0m\n\u001b[1;32m   4260\u001b[0m                         \u001b[0mf\u001b[0m\u001b[0;34m,\u001b[0m \u001b[0maxis\u001b[0m\u001b[0;34m,\u001b[0m\u001b[0;34m\u001b[0m\u001b[0m\n\u001b[1;32m   4261\u001b[0m                         \u001b[0mreduce\u001b[0m\u001b[0;34m=\u001b[0m\u001b[0mreduce\u001b[0m\u001b[0;34m,\u001b[0m\u001b[0;34m\u001b[0m\u001b[0m\n\u001b[0;32m-> 4262\u001b[0;31m                         ignore_failures=ignore_failures)\n\u001b[0m\u001b[1;32m   4263\u001b[0m             \u001b[0;32melse\u001b[0m\u001b[0;34m:\u001b[0m\u001b[0;34m\u001b[0m\u001b[0m\n\u001b[1;32m   4264\u001b[0m                 \u001b[0;32mreturn\u001b[0m \u001b[0mself\u001b[0m\u001b[0;34m.\u001b[0m\u001b[0m_apply_broadcast\u001b[0m\u001b[0;34m(\u001b[0m\u001b[0mf\u001b[0m\u001b[0;34m,\u001b[0m \u001b[0maxis\u001b[0m\u001b[0;34m)\u001b[0m\u001b[0;34m\u001b[0m\u001b[0m\n",
      "\u001b[0;32m/specific/fprivate/bnet/danasilv/python_venv/lib/python3.4/site-packages/pandas/core/frame.py\u001b[0m in \u001b[0;36m_apply_standard\u001b[0;34m(self, func, axis, ignore_failures, reduce)\u001b[0m\n\u001b[1;32m   4316\u001b[0m                     \u001b[0mlabels\u001b[0m \u001b[0;34m=\u001b[0m \u001b[0mself\u001b[0m\u001b[0;34m.\u001b[0m\u001b[0m_get_agg_axis\u001b[0m\u001b[0;34m(\u001b[0m\u001b[0maxis\u001b[0m\u001b[0;34m)\u001b[0m\u001b[0;34m\u001b[0m\u001b[0m\n\u001b[1;32m   4317\u001b[0m                     result = lib.reduce(values, func, axis=axis, dummy=dummy,\n\u001b[0;32m-> 4318\u001b[0;31m                                         labels=labels)\n\u001b[0m\u001b[1;32m   4319\u001b[0m                     \u001b[0;32mreturn\u001b[0m \u001b[0mSeries\u001b[0m\u001b[0;34m(\u001b[0m\u001b[0mresult\u001b[0m\u001b[0;34m,\u001b[0m \u001b[0mindex\u001b[0m\u001b[0;34m=\u001b[0m\u001b[0mlabels\u001b[0m\u001b[0;34m)\u001b[0m\u001b[0;34m\u001b[0m\u001b[0m\n\u001b[1;32m   4320\u001b[0m                 \u001b[0;32mexcept\u001b[0m \u001b[0mException\u001b[0m\u001b[0;34m:\u001b[0m\u001b[0;34m\u001b[0m\u001b[0m\n",
      "\u001b[0;32mpandas/_libs/src/reduce.pyx\u001b[0m in \u001b[0;36mpandas._libs.lib.reduce (pandas/_libs/lib.c:44036)\u001b[0;34m()\u001b[0m\n",
      "\u001b[0;32mpandas/_libs/src/reduce.pyx\u001b[0m in \u001b[0;36mpandas._libs.lib.Reducer.get_result (pandas/_libs/lib.c:33629)\u001b[0;34m()\u001b[0m\n",
      "\u001b[0;32m<ipython-input-8-ee61282abe3f>\u001b[0m in \u001b[0;36m<lambda>\u001b[0;34m(row)\u001b[0m\n\u001b[1;32m     16\u001b[0m \u001b[0;34m\u001b[0m\u001b[0m\n\u001b[1;32m     17\u001b[0m     \u001b[0;31m# Save the score\u001b[0m\u001b[0;34m\u001b[0m\u001b[0;34m\u001b[0m\u001b[0m\n\u001b[0;32m---> 18\u001b[0;31m     \u001b[0munoriented\u001b[0m\u001b[0;34m[\u001b[0m\u001b[0mexperiment_name\u001b[0m\u001b[0;34m]\u001b[0m \u001b[0;34m=\u001b[0m \u001b[0munoriented\u001b[0m\u001b[0;34m.\u001b[0m\u001b[0mapply\u001b[0m\u001b[0;34m(\u001b[0m\u001b[0;32mlambda\u001b[0m \u001b[0mrow\u001b[0m\u001b[0;34m:\u001b[0m \u001b[0mcalc_score_for_edge\u001b[0m\u001b[0;34m(\u001b[0m\u001b[0mrow\u001b[0m\u001b[0;34m[\u001b[0m\u001b[0;34m'ID1'\u001b[0m\u001b[0;34m]\u001b[0m\u001b[0;34m,\u001b[0m\u001b[0mrow\u001b[0m\u001b[0;34m[\u001b[0m\u001b[0;34m'ID2'\u001b[0m\u001b[0;34m]\u001b[0m\u001b[0;34m,\u001b[0m \u001b[0mdiffuse_from_sources\u001b[0m\u001b[0;34m,\u001b[0m \u001b[0mdiffuse_from_terminals\u001b[0m\u001b[0;34m,\u001b[0m\u001b[0munoriented_network\u001b[0m\u001b[0;34m.\u001b[0m\u001b[0mgeneToRow\u001b[0m\u001b[0;34m)\u001b[0m\u001b[0;34m,\u001b[0m \u001b[0maxis\u001b[0m \u001b[0;34m=\u001b[0m \u001b[0;36m1\u001b[0m\u001b[0;34m)\u001b[0m\u001b[0;34m\u001b[0m\u001b[0m\n\u001b[0m",
      "\u001b[0;32m<ipython-input-7-5ca458cbfd88>\u001b[0m in \u001b[0;36mcalc_score_for_edge\u001b[0;34m(ID1, ID2, diffuse_from_sources, diffuse_from_terminals, geneToRow)\u001b[0m\n\u001b[1;32m      4\u001b[0m     \u001b[0mFe_u\u001b[0m \u001b[0;34m=\u001b[0m \u001b[0mdiffuse_from_terminals\u001b[0m\u001b[0;34m.\u001b[0m\u001b[0mT\u001b[0m\u001b[0;34m[\u001b[0m\u001b[0mgeneToRow\u001b[0m\u001b[0;34m[\u001b[0m\u001b[0mstr\u001b[0m\u001b[0;34m(\u001b[0m\u001b[0mID1\u001b[0m\u001b[0;34m)\u001b[0m\u001b[0;34m]\u001b[0m\u001b[0;34m]\u001b[0m\u001b[0;34m[\u001b[0m\u001b[0;36m0\u001b[0m\u001b[0;34m]\u001b[0m\u001b[0;34m\u001b[0m\u001b[0m\n\u001b[1;32m      5\u001b[0m     \u001b[0mFe_v\u001b[0m \u001b[0;34m=\u001b[0m \u001b[0mdiffuse_from_terminals\u001b[0m\u001b[0;34m.\u001b[0m\u001b[0mT\u001b[0m\u001b[0;34m[\u001b[0m\u001b[0mgeneToRow\u001b[0m\u001b[0;34m[\u001b[0m\u001b[0mstr\u001b[0m\u001b[0;34m(\u001b[0m\u001b[0mID2\u001b[0m\u001b[0;34m)\u001b[0m\u001b[0;34m]\u001b[0m\u001b[0;34m]\u001b[0m\u001b[0;34m[\u001b[0m\u001b[0;36m0\u001b[0m\u001b[0;34m]\u001b[0m\u001b[0;34m\u001b[0m\u001b[0m\n\u001b[0;32m----> 6\u001b[0;31m     \u001b[0;32mreturn\u001b[0m \u001b[0;34m(\u001b[0m\u001b[0mFc_u\u001b[0m \u001b[0;34m*\u001b[0m \u001b[0mFe_v\u001b[0m\u001b[0;34m)\u001b[0m\u001b[0;34m/\u001b[0m\u001b[0;34m(\u001b[0m\u001b[0mFe_u\u001b[0m \u001b[0;34m*\u001b[0m \u001b[0mFc_v\u001b[0m\u001b[0;34m)\u001b[0m\u001b[0;34m\u001b[0m\u001b[0m\n\u001b[0m",
      "\u001b[0;31mKeyboardInterrupt\u001b[0m: "
     ]
    }
   ],
   "source": [
    "# ToUse: Change parameter value \"size\" to the number of experiments you wish to use as features. \n",
    "# Ideally use all (in which case uncomment the code above and comment this code box)\n",
    "\n",
    "# For the sake of the example choose random 10 to run the diffusion\n",
    "# All results in the paper eacept figure S3 use all the experiments. \n",
    "# Please notice that to get the same results all experiments are needed.\n",
    "experiments_used = list()\n",
    "for experiment_name in np.random.choice(experiments_names, size = 100, replace=False):\n",
    "    experiments_used.append(experiment_name)\n",
    "    run_diffusion_for_experiment(experiment_name, sources, terminals, unoriented_network_diffusion, unoriented)\n",
    "    \n",
    "# Replace NA with 0 - for experiments which did not have sources/terminals in the netowork\n",
    "unoriented.fillna(0, inplace=True)"
   ]
  },
  {
   "cell_type": "markdown",
   "metadata": {},
   "source": [
    "Train a classifier on the set of directed edges and predict the directions of the remaining edges"
   ]
  },
  {
   "cell_type": "code",
   "execution_count": 34,
   "metadata": {
    "collapsed": false
   },
   "outputs": [
    {
     "data": {
      "image/png": "[encoded data removed]",
      "text/plain": [
       "<matplotlib.figure.Figure at 0x7f06da27c828>"
      ]
     },
     "metadata": {},
     "output_type": "display_data"
    }
   ],
   "source": [
    "set_name = 'balanced_kpi'\n",
    "clfLRL1 = linear_model.LogisticRegression(solver='liblinear', penalty = 'l1', C=0.001)\n",
    "\n",
    "# propagation\n",
    "recall1, precision1, AUC1, oriented_network, prob = test_crossfold(unoriented,experiments_used,set_name, clfLRL1, 0) \n",
    "\n",
    "# middle line\n",
    "plt.plot([0, 1], [0.5, 0.5], '--', color=(0.8, 0.8, 0.8), label='random')\n",
    "plt.plot(recall1, precision1, 'o--', marker='o',label= 'Diffuse2Direct (%0.2f)' % AUC1, lw=2, markersize=3, color = 'lightseagreen')#, markeredgecolor = 'dimgrey')\n",
    "\n",
    "plt.xlim([0, 1])\n",
    "plt.ylim([0, 1])\n",
    "plt.xlabel('Recall')\n",
    "plt.ylabel('Precision')\n",
    "plt.legend(loc=\"lower right\")\n",
    "plt.title(set_name)\n",
    "\n",
    "params = {'legend.fontsize': 8,\n",
    "          'figure.figsize': (4.6,2.9),\n",
    "         'axes.labelsize': 8,\n",
    "         'axes.titlesize':8,\n",
    "         'xtick.labelsize':8,\n",
    "         'ytick.labelsize':8}\n",
    "plt.rcParams.update(params) \n",
    "plt.show()"
   ]
  },
  {
   "cell_type": "markdown",
   "metadata": {},
   "source": [
    "Use a few guiding sources and merge the results"
   ]
  },
  {
   "cell_type": "code",
   "execution_count": 35,
   "metadata": {
    "collapsed": false
   },
   "outputs": [
    {
     "name": "stdout",
     "output_type": "stream",
     "text": [
      "PDIs 0.71\n",
      "KPIs 0.68\n",
      "STKE 0.62\n",
      "EGFR 0.53\n",
      "E3 0.62\n"
     ]
    },
    {
     "data": {
      "text/plain": [
       "[0.70589111142500616,\n",
       " 0.68346011721391908,\n",
       " 0.62048508845974426,\n",
       " 0.52554090176007284,\n",
       " 0.62388357466251143]"
      ]
     },
     "execution_count": 35,
     "metadata": {},
     "output_type": "execute_result"
    }
   ],
   "source": [
    "print_auc(unoriented,experiments_used)"
   ]
  },
  {
   "cell_type": "markdown",
   "metadata": {},
   "source": [
    "Orient the network"
   ]
  },
  {
   "cell_type": "code",
   "execution_count": 36,
   "metadata": {
    "collapsed": false
   },
   "outputs": [
    {
     "name": "stderr",
     "output_type": "stream",
     "text": [
      "/usr/local/lib/python3.4/dist-packages/ipykernel-4.3.1-py3.4.egg/ipykernel/__main__.py:37: SettingWithCopyWarning: \n",
      "A value is trying to be set on a copy of a slice from a DataFrame.\n",
      "Try using .loc[row_indexer,col_indexer] = value instead\n",
      "\n",
      "See the caveats in the documentation: http://pandas.pydata.org/pandas-docs/stable/indexing.html#indexing-view-versus-copy\n",
      "/usr/local/lib/python3.4/dist-packages/ipykernel-4.3.1-py3.4.egg/ipykernel/__main__.py:38: SettingWithCopyWarning: \n",
      "A value is trying to be set on a copy of a slice from a DataFrame.\n",
      "Try using .loc[row_indexer,col_indexer] = value instead\n",
      "\n",
      "See the caveats in the documentation: http://pandas.pydata.org/pandas-docs/stable/indexing.html#indexing-view-versus-copy\n",
      "/usr/local/lib/python3.4/dist-packages/ipykernel-4.3.1-py3.4.egg/ipykernel/__main__.py:3: SettingWithCopyWarning: \n",
      "A value is trying to be set on a copy of a slice from a DataFrame.\n",
      "Try using .loc[row_indexer,col_indexer] = value instead\n",
      "\n",
      "See the caveats in the documentation: http://pandas.pydata.org/pandas-docs/stable/indexing.html#indexing-view-versus-copy\n",
      "  app.launch_new_instance()\n"
     ]
    }
   ],
   "source": [
    "drugs_oriented = create_oriented_network_from_signal(unoriented,experiments_used)"
   ]
  },
  {
   "cell_type": "markdown",
   "metadata": {},
   "source": [
    "Leave edges with probability below 1+epsilon unoriented"
   ]
  },
  {
   "cell_type": "code",
   "execution_count": 37,
   "metadata": {
    "collapsed": false
   },
   "outputs": [
    {
     "data": {
      "text/plain": [
       "array(['biogrid'], dtype=object)"
      ]
     },
     "execution_count": 37,
     "metadata": {},
     "output_type": "execute_result"
    }
   ],
   "source": [
    "# Find edges with probabilty below 1 + epsilon\n",
    "epsilon = 0.01\n",
    "threshold = float(1 + epsilon)\n",
    "inferred_unoriented = drugs_oriented[abs(drugs_oriented['probability']) <= threshold]\n",
    "\n",
    "# Create the oppopsite direction\n",
    "inferred_unoriented_opposite_direction = inferred_unoriented.copy()\n",
    "inferred_unoriented_opposite_direction.columns = ['edge', 'type', 'conf', 'probability', 'ID2', 'ID1']\n",
    "inferred_unoriented_opposite_direction['type'].unique()\n"
   ]
  },
  {
   "cell_type": "code",
   "execution_count": 38,
   "metadata": {
    "collapsed": false
   },
   "outputs": [],
   "source": [
    "drugs_partially_oriented = pd.concat([drugs_oriented, inferred_unoriented_opposite_direction])"
   ]
  },
  {
   "cell_type": "code",
   "execution_count": 39,
   "metadata": {
    "collapsed": true
   },
   "outputs": [],
   "source": [
    "drugs_partially_oriented['Predicted_to_be_directed'] = 1"
   ]
  },
  {
   "cell_type": "code",
   "execution_count": 40,
   "metadata": {
    "collapsed": false
   },
   "outputs": [
    {
     "name": "stderr",
     "output_type": "stream",
     "text": [
      "/usr/local/lib/python3.4/dist-packages/ipykernel-4.3.1-py3.4.egg/ipykernel/__main__.py:1: UserWarning: Boolean Series key will be reindexed to match DataFrame index.\n",
      "  if __name__ == '__main__':\n",
      "/usr/local/lib/python3.4/dist-packages/ipykernel-4.3.1-py3.4.egg/ipykernel/__main__.py:1: SettingWithCopyWarning: \n",
      "A value is trying to be set on a copy of a slice from a DataFrame.\n",
      "Try using .loc[row_indexer,col_indexer] = value instead\n",
      "\n",
      "See the caveats in the documentation: http://pandas.pydata.org/pandas-docs/stable/indexing.html#indexing-view-versus-copy\n",
      "  if __name__ == '__main__':\n"
     ]
    }
   ],
   "source": [
    "drugs_partially_oriented[abs(drugs_oriented['probability']) <= threshold]['Predicted_to_be_directed'] = 0"
   ]
  },
  {
   "cell_type": "code",
   "execution_count": 41,
   "metadata": {
    "collapsed": true
   },
   "outputs": [],
   "source": [
    "# This is a network oriented using drugs information, there fore  the orientation confodence is only 1 for one network.\n",
    "# In case more guding sources are available use these to orient copies of the network , and vote for each interaction\n",
    "drugs_partially_oriented['orientation_confidence'] = 1"
   ]
  },
  {
   "cell_type": "code",
   "execution_count": 42,
   "metadata": {
    "collapsed": false
   },
   "outputs": [],
   "source": [
    "drugs_oriented_to_print = drugs_partially_oriented.copy()\n",
    "drugs_oriented_to_print = drugs_oriented_to_print[['ID1','ID2','type','conf','orientation_confidence','Predicted_to_be_directed']]\n",
    "drugs_oriented_to_print.columns = ['head','tail','interaction_type','interaction_confidence','orientation_confidence','Predicted_to_be_directed']"
   ]
  },
  {
   "cell_type": "code",
   "execution_count": 43,
   "metadata": {
    "collapsed": true
   },
   "outputs": [],
   "source": [
    "drugs_oriented_to_print.to_csv(output_library + 'partially_oriented_network_with_drugs_info.csv', sep = '\\t', index = False, header = True)"
   ]
  }
 ],
 "metadata": {
  "kernelspec": {
   "display_name": "Python 3",
   "language": "python",
   "name": "python3"
  },
  "language_info": {
   "codemirror_mode": {
    "name": "ipython",
    "version": 3
   },
   "file_extension": ".py",
   "mimetype": "text/x-python",
   "name": "python",
   "nbconvert_exporter": "python",
   "pygments_lexer": "ipython3",
   "version": "3.4.0"
  }
 },
 "nbformat": 4,
 "nbformat_minor": 0
}
